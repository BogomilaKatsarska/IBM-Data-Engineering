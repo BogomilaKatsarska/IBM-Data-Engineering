{
 "cells": [
  {
   "cell_type": "markdown",
   "id": "71da192d-73d6-45d9-8458-526c098a8f8c",
   "metadata": {},
   "source": [
    "**Practice Lab**"
   ]
  },
  {
   "cell_type": "code",
   "execution_count": 5,
   "id": "5a9ba0a4-4a0f-4ce0-8795-5f9bf418b61f",
   "metadata": {},
   "outputs": [],
   "source": [
    "given_string = \"Lorem ipsum dolor sit amet, consectetur adipiscing elit, sed do eiusmod tempor incididunt ut labore et dolore magna aliqua. Ut enim ad minim veniam, quis nostrud exercitation ullamco laboris nisi ut aliquip ex ea commodo consequat. Duis aute irure dolor in reprehenderit in voluptate velit esse cillum dolore eu fugiat nulla pariatur. Excepteur sint occaecat cupidatat non proident, sunt in culpa qui officia deserunt mollit anim id est laborum.\""
   ]
  },
  {
   "cell_type": "code",
   "execution_count": 7,
   "id": "0729c1fd-5bc8-472b-82b1-47a990635874",
   "metadata": {},
   "outputs": [],
   "source": [
    "class TextAnalyzer():\n",
    "    def __init__(self, text):\n",
    "        formatted_text = text.replace(\".\", \"\").replace(\"?\",\"\").replace(\",\",\"\").replace(\"!\",\"\")\n",
    "        formatted_text = formatted_text.lower()\n",
    "        self.fmt_txt = formatted_text\n",
    "\n",
    "    def frequency_words(self):\n",
    "        words_list = self.fmt_txt.split(\" \")\n",
    "        \n",
    "        frequency_map = {}\n",
    "        for word in set(words_list):\n",
    "            frequency_map[word] = words_list.count(word)\n",
    "        return frequency_map\n",
    "\n",
    "    def frequency_of(self, word):\n",
    "        freq_dict = self.frequency_words()\n",
    "\n",
    "        if word in freq_dict:\n",
    "            return freq_dict[word]\n",
    "        else:\n",
    "            return 0"
   ]
  },
  {
   "cell_type": "code",
   "execution_count": 9,
   "id": "7bff78c0-4e6f-4138-ad53-6ce60f64d678",
   "metadata": {},
   "outputs": [],
   "source": [
    "analyzed_text = TextAnalyzer(given_string)"
   ]
  },
  {
   "cell_type": "code",
   "execution_count": 11,
   "id": "b69710cd-87d3-403a-a627-ac2176e53f23",
   "metadata": {},
   "outputs": [
    {
     "name": "stdout",
     "output_type": "stream",
     "text": [
      "Formatted text:  lorem ipsum dolor sit amet consectetur adipiscing elit sed do eiusmod tempor incididunt ut labore et dolore magna aliqua ut enim ad minim veniam quis nostrud exercitation ullamco laboris nisi ut aliquip ex ea commodo consequat duis aute irure dolor in reprehenderit in voluptate velit esse cillum dolore eu fugiat nulla pariatur excepteur sint occaecat cupidatat non proident sunt in culpa qui officia deserunt mollit anim id est laborum\n"
     ]
    }
   ],
   "source": [
    "print(\"Formatted text: \", analyzed_text.fmt_txt)"
   ]
  },
  {
   "cell_type": "code",
   "execution_count": 13,
   "id": "cc4d2e27-adaf-4bf5-b513-58fe44f42a73",
   "metadata": {},
   "outputs": [
    {
     "name": "stdout",
     "output_type": "stream",
     "text": [
      "{'pariatur': 1, 'do': 1, 'et': 1, 'mollit': 1, 'commodo': 1, 'officia': 1, 'laboris': 1, 'dolore': 2, 'consectetur': 1, 'proident': 1, 'nisi': 1, 'cillum': 1, 'esse': 1, 'excepteur': 1, 'minim': 1, 'sed': 1, 'incididunt': 1, 'eiusmod': 1, 'quis': 1, 'nostrud': 1, 'laborum': 1, 'ea': 1, 'ipsum': 1, 'tempor': 1, 'ut': 3, 'adipiscing': 1, 'exercitation': 1, 'deserunt': 1, 'est': 1, 'duis': 1, 'aliquip': 1, 'in': 3, 'non': 1, 'irure': 1, 'aute': 1, 'lorem': 1, 'consequat': 1, 'elit': 1, 'sunt': 1, 'labore': 1, 'amet': 1, 'fugiat': 1, 'magna': 1, 'id': 1, 'enim': 1, 'ad': 1, 'velit': 1, 'sit': 1, 'veniam': 1, 'ex': 1, 'dolor': 2, 'qui': 1, 'ullamco': 1, 'anim': 1, 'voluptate': 1, 'nulla': 1, 'cupidatat': 1, 'culpa': 1, 'eu': 1, 'reprehenderit': 1, 'occaecat': 1, 'aliqua': 1, 'sint': 1}\n"
     ]
    }
   ],
   "source": [
    "freq_map = analyzed_text.frequency_words()\n",
    "print(freq_map)"
   ]
  },
  {
   "cell_type": "code",
   "execution_count": 19,
   "id": "72e13310-65c4-4f47-8c0e-7ff1cbf94d50",
   "metadata": {},
   "outputs": [
    {
     "name": "stdout",
     "output_type": "stream",
     "text": [
      "Word lorem appers 1 time/s.\n"
     ]
    }
   ],
   "source": [
    "word = \"lorem\"\n",
    "frequency = analyzed_text.frequency_of(word)\n",
    "print(f\"Word {word} appers {frequency} time/s.\")"
   ]
  },
  {
   "cell_type": "code",
   "execution_count": null,
   "id": "cbf22fe3-4666-428b-8497-e4b7eead16fa",
   "metadata": {},
   "outputs": [],
   "source": []
  },
  {
   "cell_type": "code",
   "execution_count": null,
   "id": "06df2905-12d6-483d-8378-240f329b97b8",
   "metadata": {},
   "outputs": [],
   "source": []
  },
  {
   "cell_type": "code",
   "execution_count": null,
   "id": "6ec9f63f-c9d9-460a-99d1-feecda0d8467",
   "metadata": {},
   "outputs": [],
   "source": []
  }
 ],
 "metadata": {
  "kernelspec": {
   "display_name": "Python [conda env:base] *",
   "language": "python",
   "name": "conda-base-py"
  },
  "language_info": {
   "codemirror_mode": {
    "name": "ipython",
    "version": 3
   },
   "file_extension": ".py",
   "mimetype": "text/x-python",
   "name": "python",
   "nbconvert_exporter": "python",
   "pygments_lexer": "ipython3",
   "version": "3.12.7"
  }
 },
 "nbformat": 4,
 "nbformat_minor": 5
}
