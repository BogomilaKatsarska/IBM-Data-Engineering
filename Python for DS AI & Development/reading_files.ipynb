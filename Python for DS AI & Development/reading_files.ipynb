{
 "cells": [
  {
   "cell_type": "code",
   "execution_count": 21,
   "id": "7fa2cdd1-9e93-447d-a990-781cbe7e811a",
   "metadata": {},
   "outputs": [
    {
     "name": "stdout",
     "output_type": "stream",
     "text": [
      "  This is line 1 \n",
      "0  This is line 2\n",
      "1  This is line 3\n"
     ]
    }
   ],
   "source": [
    "import pandas as pd\n",
    "\n",
    "filename = \"https://cf-courses-data.s3.us.cloud-object-storage.appdomain.cloud/IBMDeveloperSkillsNetwork-PY0101EN-SkillsNetwork/labs/Module%204/data/example1.txt\"\n",
    "\n",
    "df = pd.read_csv(filename, nrows=2)\n",
    "\n",
    "print(df)"
   ]
  },
  {
   "cell_type": "code",
   "execution_count": 31,
   "id": "4603963a-d10f-4c38-9367-2d5abe6cbcca",
   "metadata": {},
   "outputs": [],
   "source": [
    "demo_lines = [\"hello \\n\", \"how \\n\", \"are you?\\n\"]\n",
    "with open(r\"C:\\Users\\bkats\\Desktop\\demo.txt\", \"w\") as file_demo:\n",
    "    file_demo.write(\"alabala \\n\")\n",
    "    file_demo.write(\"nica \\n\")\n",
    "    for line in demo_lines:\n",
    "        file_demo.write(line)\n",
    "    "
   ]
  },
  {
   "cell_type": "code",
   "execution_count": 35,
   "id": "930b8965-b674-4231-a187-05b7326482d2",
   "metadata": {},
   "outputs": [],
   "source": [
    "with open(r\"C:\\Users\\bkats\\Desktop\\demo.txt\", \"r\") as readfile:\n",
    "    with open(r\"C:\\Users\\bkats\\Desktop\\demo_write.txt\", \"w\") as writefile:\n",
    "        for line in readfile:\n",
    "            writefile.write(line)"
   ]
  },
  {
   "cell_type": "markdown",
   "id": "206a6f3b-80df-4819-93af-1b7772521ecc",
   "metadata": {},
   "source": [
    "We can access the file in the following modes:\n",
    "\n",
    "r+ : Reading and writing. Cannot truncate the file.\n",
    "w+ : Writing and reading. Truncates the file.\n",
    "a+ : Appending and Reading. Creates a new file, if none exists."
   ]
  },
  {
   "cell_type": "code",
   "execution_count": null,
   "id": "07e79d2e-3455-4d78-8a1e-104ab360d12f",
   "metadata": {},
   "outputs": [],
   "source": []
  },
  {
   "cell_type": "code",
   "execution_count": null,
   "id": "6cb9235e-4eb7-4c55-8ca0-ec519bfef1cc",
   "metadata": {},
   "outputs": [],
   "source": []
  }
 ],
 "metadata": {
  "kernelspec": {
   "display_name": "Python [conda env:base] *",
   "language": "python",
   "name": "conda-base-py"
  },
  "language_info": {
   "codemirror_mode": {
    "name": "ipython",
    "version": 3
   },
   "file_extension": ".py",
   "mimetype": "text/x-python",
   "name": "python",
   "nbconvert_exporter": "python",
   "pygments_lexer": "ipython3",
   "version": "3.12.7"
  }
 },
 "nbformat": 4,
 "nbformat_minor": 5
}
